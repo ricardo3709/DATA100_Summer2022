{
 "cells": [
  {
   "cell_type": "code",
   "execution_count": 37,
   "id": "72d2f5ba",
   "metadata": {
    "deletable": false,
    "editable": false
   },
   "outputs": [],
   "source": [
    "# Initialize Otter\n",
    "import otter\n",
    "grader = otter.Notebook(\"hw06.ipynb\")"
   ]
  },
  {
   "cell_type": "markdown",
   "id": "9e826210",
   "metadata": {},
   "source": [
    "# Homework 6: Modeling and Analyzing COVID-19 Cases\n",
    "## Probability and Estimators\n",
    "## Due Date: Thursday, July 28, 11:59 PM PDT\n",
    "\n",
    "\n",
    "**Content Warning**\n",
    "\n",
    "This assignment includes an analysis of daily COVID-19 cases by U.S. county through 2021. If you feel uncomfortable with this topic, **please contact your GSI or the instructors.**\n",
    "\n",
    "**Collaboration Policy**\n",
    "\n",
    "Data science is a collaborative activity. While you may talk with others about\n",
    "the homework, we ask that you **write your solutions individually**. If you do\n",
    "discuss the assignments with others please **include their names** below."
   ]
  },
  {
   "cell_type": "markdown",
   "id": "d53ddc70",
   "metadata": {},
   "source": [
    "**Collaborators**: *list collaborators here*"
   ]
  },
  {
   "cell_type": "markdown",
   "id": "669c0f08",
   "metadata": {},
   "source": [
    "\n",
    "\n",
    "## Introduction\n",
    "\n",
    "In this homework, we will investigate a dataset that contains information about COVID-19 cases in the United States, vaccination rates, and various other metadata that can assist in modeling various aspects of COVID-19.\n",
    "\n",
    "Through this homework assignment, you will demonstrate your experience with:\n",
    "* Bootstrap sampling\n",
    "* Bias-variance tradeoff and decomposition\n",
    "* Biased and unbiased estimators\n",
    "* Multicollinearity in features"
   ]
  },
  {
   "cell_type": "code",
   "execution_count": 38,
   "id": "01dce55d",
   "metadata": {},
   "outputs": [],
   "source": [
    "# Run this cell to set up your notebook\n",
    "import numpy as np\n",
    "import pandas as pd\n",
    "import sklearn.linear_model as lm\n",
    "from sklearn.model_selection import train_test_split\n",
    "\n",
    "import matplotlib.pyplot as plt\n",
    "import seaborn as sns\n",
    "from IPython.display import Markdown\n",
    "\n",
    "import scipy.stats\n",
    "\n",
    "import warnings\n",
    "warnings.filterwarnings(\"ignore\")"
   ]
  },
  {
   "cell_type": "markdown",
   "id": "01784ffa",
   "metadata": {},
   "source": [
    "<br/><br/><br/>\n",
    "\n",
    "<hr style=\"border: 5px solid #003262;\" />\n",
    "<hr style=\"border: 1px solid #fdb515;\" />\n",
    "\n",
    "## Question 1: Random Variables\n",
    "\n",
    "Question 1 is a written problem and should be submitted as a separate PDF to the Written portal of Gradescope. All other questions in this assignment are submitted as part of this notebook.\n",
    "\n",
    "Question 1 PDF File: https://ds100.org/su22/hw/hw06/hw06_student.pdf\n",
    "<br>Question 1 Overleaf Template: https://ds100.org/su22/hw/hw06/hw06_template.zip"
   ]
  },
  {
   "cell_type": "markdown",
   "id": "bd00c76a",
   "metadata": {},
   "source": [
    "<br/><br/><br/>\n",
    "\n",
    "<hr style=\"border: 5px solid #003262;\" />\n",
    "<hr style=\"border: 1px solid #fdb515;\" />\n",
    "\n",
    "## Question 2: Exploratory Data Analysis\n",
    "\n",
    "Let's perform some initial exploratory data analysis to examine and visualize potential trends in a COVID-19 dataset."
   ]
  },
  {
   "cell_type": "code",
   "execution_count": 39,
   "id": "921fe0f0",
   "metadata": {},
   "outputs": [
    {
     "data": {
      "text/html": [
       "<div>\n",
       "<style scoped>\n",
       "    .dataframe tbody tr th:only-of-type {\n",
       "        vertical-align: middle;\n",
       "    }\n",
       "\n",
       "    .dataframe tbody tr th {\n",
       "        vertical-align: top;\n",
       "    }\n",
       "\n",
       "    .dataframe thead th {\n",
       "        text-align: right;\n",
       "    }\n",
       "</style>\n",
       "<table border=\"1\" class=\"dataframe\">\n",
       "  <thead>\n",
       "    <tr style=\"text-align: right;\">\n",
       "      <th></th>\n",
       "      <th>UID</th>\n",
       "      <th>iso2</th>\n",
       "      <th>iso3</th>\n",
       "      <th>code3</th>\n",
       "      <th>FIPS</th>\n",
       "      <th>Admin2</th>\n",
       "      <th>Province_State</th>\n",
       "      <th>Country_Region</th>\n",
       "      <th>Lat</th>\n",
       "      <th>Long_</th>\n",
       "      <th>...</th>\n",
       "      <th>POPESTIMATE2018</th>\n",
       "      <th>POPESTIMATE2019</th>\n",
       "      <th>POPESTIMATE042020</th>\n",
       "      <th>POPESTIMATE2020</th>\n",
       "      <th>COUNTYFP</th>\n",
       "      <th>NEVER</th>\n",
       "      <th>RARELY</th>\n",
       "      <th>SOMETIMES</th>\n",
       "      <th>FREQUENTLY</th>\n",
       "      <th>ALWAYS</th>\n",
       "    </tr>\n",
       "  </thead>\n",
       "  <tbody>\n",
       "    <tr>\n",
       "      <th>0</th>\n",
       "      <td>84001001</td>\n",
       "      <td>US</td>\n",
       "      <td>USA</td>\n",
       "      <td>840</td>\n",
       "      <td>1001</td>\n",
       "      <td>Autauga</td>\n",
       "      <td>Alabama</td>\n",
       "      <td>US</td>\n",
       "      <td>32.539527</td>\n",
       "      <td>-86.644082</td>\n",
       "      <td>...</td>\n",
       "      <td>55533</td>\n",
       "      <td>55769</td>\n",
       "      <td>56130</td>\n",
       "      <td>56145</td>\n",
       "      <td>1001</td>\n",
       "      <td>0.053</td>\n",
       "      <td>0.074</td>\n",
       "      <td>0.134</td>\n",
       "      <td>0.295</td>\n",
       "      <td>0.444</td>\n",
       "    </tr>\n",
       "    <tr>\n",
       "      <th>1</th>\n",
       "      <td>84001003</td>\n",
       "      <td>US</td>\n",
       "      <td>USA</td>\n",
       "      <td>840</td>\n",
       "      <td>1003</td>\n",
       "      <td>Baldwin</td>\n",
       "      <td>Alabama</td>\n",
       "      <td>US</td>\n",
       "      <td>30.727750</td>\n",
       "      <td>-87.722071</td>\n",
       "      <td>...</td>\n",
       "      <td>218071</td>\n",
       "      <td>223565</td>\n",
       "      <td>227989</td>\n",
       "      <td>229287</td>\n",
       "      <td>1003</td>\n",
       "      <td>0.083</td>\n",
       "      <td>0.059</td>\n",
       "      <td>0.098</td>\n",
       "      <td>0.323</td>\n",
       "      <td>0.436</td>\n",
       "    </tr>\n",
       "    <tr>\n",
       "      <th>2</th>\n",
       "      <td>84001005</td>\n",
       "      <td>US</td>\n",
       "      <td>USA</td>\n",
       "      <td>840</td>\n",
       "      <td>1005</td>\n",
       "      <td>Barbour</td>\n",
       "      <td>Alabama</td>\n",
       "      <td>US</td>\n",
       "      <td>31.868263</td>\n",
       "      <td>-85.387129</td>\n",
       "      <td>...</td>\n",
       "      <td>24887</td>\n",
       "      <td>24657</td>\n",
       "      <td>24652</td>\n",
       "      <td>24589</td>\n",
       "      <td>1005</td>\n",
       "      <td>0.067</td>\n",
       "      <td>0.121</td>\n",
       "      <td>0.120</td>\n",
       "      <td>0.201</td>\n",
       "      <td>0.491</td>\n",
       "    </tr>\n",
       "    <tr>\n",
       "      <th>3</th>\n",
       "      <td>84001007</td>\n",
       "      <td>US</td>\n",
       "      <td>USA</td>\n",
       "      <td>840</td>\n",
       "      <td>1007</td>\n",
       "      <td>Bibb</td>\n",
       "      <td>Alabama</td>\n",
       "      <td>US</td>\n",
       "      <td>32.996421</td>\n",
       "      <td>-87.125115</td>\n",
       "      <td>...</td>\n",
       "      <td>22300</td>\n",
       "      <td>22313</td>\n",
       "      <td>22199</td>\n",
       "      <td>22136</td>\n",
       "      <td>1007</td>\n",
       "      <td>0.020</td>\n",
       "      <td>0.034</td>\n",
       "      <td>0.096</td>\n",
       "      <td>0.278</td>\n",
       "      <td>0.572</td>\n",
       "    </tr>\n",
       "    <tr>\n",
       "      <th>4</th>\n",
       "      <td>84001009</td>\n",
       "      <td>US</td>\n",
       "      <td>USA</td>\n",
       "      <td>840</td>\n",
       "      <td>1009</td>\n",
       "      <td>Blount</td>\n",
       "      <td>Alabama</td>\n",
       "      <td>US</td>\n",
       "      <td>33.982109</td>\n",
       "      <td>-86.567906</td>\n",
       "      <td>...</td>\n",
       "      <td>57770</td>\n",
       "      <td>57840</td>\n",
       "      <td>57932</td>\n",
       "      <td>57879</td>\n",
       "      <td>1009</td>\n",
       "      <td>0.053</td>\n",
       "      <td>0.114</td>\n",
       "      <td>0.180</td>\n",
       "      <td>0.194</td>\n",
       "      <td>0.459</td>\n",
       "    </tr>\n",
       "  </tbody>\n",
       "</table>\n",
       "<p>5 rows × 638 columns</p>\n",
       "</div>"
      ],
      "text/plain": [
       "        UID iso2 iso3  code3  FIPS   Admin2 Province_State Country_Region  \\\n",
       "0  84001001   US  USA    840  1001  Autauga        Alabama             US   \n",
       "1  84001003   US  USA    840  1003  Baldwin        Alabama             US   \n",
       "2  84001005   US  USA    840  1005  Barbour        Alabama             US   \n",
       "3  84001007   US  USA    840  1007     Bibb        Alabama             US   \n",
       "4  84001009   US  USA    840  1009   Blount        Alabama             US   \n",
       "\n",
       "         Lat      Long_  ... POPESTIMATE2018  POPESTIMATE2019  \\\n",
       "0  32.539527 -86.644082  ...           55533            55769   \n",
       "1  30.727750 -87.722071  ...          218071           223565   \n",
       "2  31.868263 -85.387129  ...           24887            24657   \n",
       "3  32.996421 -87.125115  ...           22300            22313   \n",
       "4  33.982109 -86.567906  ...           57770            57840   \n",
       "\n",
       "   POPESTIMATE042020  POPESTIMATE2020  COUNTYFP  NEVER  RARELY  SOMETIMES  \\\n",
       "0              56130            56145      1001  0.053   0.074      0.134   \n",
       "1             227989           229287      1003  0.083   0.059      0.098   \n",
       "2              24652            24589      1005  0.067   0.121      0.120   \n",
       "3              22199            22136      1007  0.020   0.034      0.096   \n",
       "4              57932            57879      1009  0.053   0.114      0.180   \n",
       "\n",
       "   FREQUENTLY  ALWAYS  \n",
       "0       0.295   0.444  \n",
       "1       0.323   0.436  \n",
       "2       0.201   0.491  \n",
       "3       0.278   0.572  \n",
       "4       0.194   0.459  \n",
       "\n",
       "[5 rows x 638 columns]"
      ]
     },
     "execution_count": 39,
     "metadata": {},
     "output_type": "execute_result"
    }
   ],
   "source": [
    "# just run this cell\n",
    "covid_data = pd.read_csv('data/covid_data.csv')\n",
    "covid_data.head(5)"
   ]
  },
  {
   "cell_type": "markdown",
   "id": "ded40452",
   "metadata": {},
   "source": [
    "The data are at county granularity; each row corresponds to COVID-19 data from a U.S. county. Here are some highlights and data sources:\n",
    "\n",
    "* The first few columns encode county and state data; for example, check out the [FIPS](https://transition.fcc.gov/oet/info/maps/census/fips/fips.txt) numeric encoding for U.S. counties.\n",
    "* The next 600 columns record daily COVID-19 cases in the county for the date range 1/22/2020 to 9/12/2021. COVID-19 case data are from CSSE at Johns Hopkins University [GitHub](https://github.com/CSSEGISandData/COVID-19/blob/master/csse_covid_19_data/csse_covid_19_time_series/time_series_covid19_confirmed_US.csv).\n",
    "* The next few columns include county populations from [U.S. census data](https://www2.census.gov/programs-surveys/popest/datasets/2010-2020/counties/totals/co-est2020.csv), the latest of which is 2020.\n",
    "* The last 5 columns record mask usage survey data on a 5-point scale from `NEVER` to `ALWAYS`. Data are collected in July 2020 from the New York Times [GitHub](https://github.com/nytimes/covid-19-data/blob/master/mask-use/mask-use-by-county.csv).\n",
    "\n",
    "We can use `covid_data.describe()` to see various statistics about the numerical features of the provided COVID-19 data. Do any particular statistics stand out to you? Which might be useful when modeling?\n",
    "\n",
    "**Note:** This isn't a question (i.e. it's worth no points); this is just food for thought as you start to explore the dataset."
   ]
  },
  {
   "cell_type": "code",
   "execution_count": 40,
   "id": "5e66e4f2",
   "metadata": {},
   "outputs": [
    {
     "data": {
      "text/html": [
       "<div>\n",
       "<style scoped>\n",
       "    .dataframe tbody tr th:only-of-type {\n",
       "        vertical-align: middle;\n",
       "    }\n",
       "\n",
       "    .dataframe tbody tr th {\n",
       "        vertical-align: top;\n",
       "    }\n",
       "\n",
       "    .dataframe thead th {\n",
       "        text-align: right;\n",
       "    }\n",
       "</style>\n",
       "<table border=\"1\" class=\"dataframe\">\n",
       "  <thead>\n",
       "    <tr style=\"text-align: right;\">\n",
       "      <th></th>\n",
       "      <th>UID</th>\n",
       "      <th>code3</th>\n",
       "      <th>FIPS</th>\n",
       "      <th>Lat</th>\n",
       "      <th>Long_</th>\n",
       "      <th>1/22/20</th>\n",
       "      <th>1/23/20</th>\n",
       "      <th>1/24/20</th>\n",
       "      <th>1/25/20</th>\n",
       "      <th>1/26/20</th>\n",
       "      <th>...</th>\n",
       "      <th>POPESTIMATE2018</th>\n",
       "      <th>POPESTIMATE2019</th>\n",
       "      <th>POPESTIMATE042020</th>\n",
       "      <th>POPESTIMATE2020</th>\n",
       "      <th>COUNTYFP</th>\n",
       "      <th>NEVER</th>\n",
       "      <th>RARELY</th>\n",
       "      <th>SOMETIMES</th>\n",
       "      <th>FREQUENTLY</th>\n",
       "      <th>ALWAYS</th>\n",
       "    </tr>\n",
       "  </thead>\n",
       "  <tbody>\n",
       "    <tr>\n",
       "      <th>count</th>\n",
       "      <td>3.141000e+03</td>\n",
       "      <td>3141.0</td>\n",
       "      <td>3141.000000</td>\n",
       "      <td>3141.000000</td>\n",
       "      <td>3141.000000</td>\n",
       "      <td>3141.000000</td>\n",
       "      <td>3141.000000</td>\n",
       "      <td>3141.000000</td>\n",
       "      <td>3141.000000</td>\n",
       "      <td>3141.000000</td>\n",
       "      <td>...</td>\n",
       "      <td>3.141000e+03</td>\n",
       "      <td>3.141000e+03</td>\n",
       "      <td>3.141000e+03</td>\n",
       "      <td>3.141000e+03</td>\n",
       "      <td>3141.000000</td>\n",
       "      <td>3141.000000</td>\n",
       "      <td>3141.000000</td>\n",
       "      <td>3141.000000</td>\n",
       "      <td>3141.000000</td>\n",
       "      <td>3141.000000</td>\n",
       "    </tr>\n",
       "    <tr>\n",
       "      <th>mean</th>\n",
       "      <td>8.403039e+07</td>\n",
       "      <td>840.0</td>\n",
       "      <td>30392.602674</td>\n",
       "      <td>38.448156</td>\n",
       "      <td>-92.272006</td>\n",
       "      <td>0.000318</td>\n",
       "      <td>0.000318</td>\n",
       "      <td>0.000637</td>\n",
       "      <td>0.000637</td>\n",
       "      <td>0.001592</td>\n",
       "      <td>...</td>\n",
       "      <td>1.040525e+05</td>\n",
       "      <td>1.045274e+05</td>\n",
       "      <td>1.048677e+05</td>\n",
       "      <td>1.048949e+05</td>\n",
       "      <td>30392.602674</td>\n",
       "      <td>0.079952</td>\n",
       "      <td>0.082929</td>\n",
       "      <td>0.121340</td>\n",
       "      <td>0.207728</td>\n",
       "      <td>0.508044</td>\n",
       "    </tr>\n",
       "    <tr>\n",
       "      <th>std</th>\n",
       "      <td>1.515661e+04</td>\n",
       "      <td>0.0</td>\n",
       "      <td>15156.613190</td>\n",
       "      <td>5.292540</td>\n",
       "      <td>12.909318</td>\n",
       "      <td>0.017843</td>\n",
       "      <td>0.017843</td>\n",
       "      <td>0.025230</td>\n",
       "      <td>0.025230</td>\n",
       "      <td>0.039873</td>\n",
       "      <td>...</td>\n",
       "      <td>3.326200e+05</td>\n",
       "      <td>3.332156e+05</td>\n",
       "      <td>3.335848e+05</td>\n",
       "      <td>3.333719e+05</td>\n",
       "      <td>15156.613190</td>\n",
       "      <td>0.058543</td>\n",
       "      <td>0.055469</td>\n",
       "      <td>0.058007</td>\n",
       "      <td>0.063581</td>\n",
       "      <td>0.152190</td>\n",
       "    </tr>\n",
       "    <tr>\n",
       "      <th>min</th>\n",
       "      <td>8.400100e+07</td>\n",
       "      <td>840.0</td>\n",
       "      <td>1001.000000</td>\n",
       "      <td>19.601212</td>\n",
       "      <td>-174.159600</td>\n",
       "      <td>0.000000</td>\n",
       "      <td>0.000000</td>\n",
       "      <td>0.000000</td>\n",
       "      <td>0.000000</td>\n",
       "      <td>0.000000</td>\n",
       "      <td>...</td>\n",
       "      <td>8.700000e+01</td>\n",
       "      <td>8.700000e+01</td>\n",
       "      <td>9.000000e+01</td>\n",
       "      <td>8.700000e+01</td>\n",
       "      <td>1001.000000</td>\n",
       "      <td>0.000000</td>\n",
       "      <td>0.000000</td>\n",
       "      <td>0.001000</td>\n",
       "      <td>0.029000</td>\n",
       "      <td>0.115000</td>\n",
       "    </tr>\n",
       "    <tr>\n",
       "      <th>25%</th>\n",
       "      <td>8.401818e+07</td>\n",
       "      <td>840.0</td>\n",
       "      <td>18179.000000</td>\n",
       "      <td>34.693167</td>\n",
       "      <td>-98.218207</td>\n",
       "      <td>0.000000</td>\n",
       "      <td>0.000000</td>\n",
       "      <td>0.000000</td>\n",
       "      <td>0.000000</td>\n",
       "      <td>0.000000</td>\n",
       "      <td>...</td>\n",
       "      <td>1.096300e+04</td>\n",
       "      <td>1.093600e+04</td>\n",
       "      <td>1.091900e+04</td>\n",
       "      <td>1.092100e+04</td>\n",
       "      <td>18179.000000</td>\n",
       "      <td>0.034000</td>\n",
       "      <td>0.040000</td>\n",
       "      <td>0.079000</td>\n",
       "      <td>0.164000</td>\n",
       "      <td>0.393000</td>\n",
       "    </tr>\n",
       "    <tr>\n",
       "      <th>50%</th>\n",
       "      <td>8.402918e+07</td>\n",
       "      <td>840.0</td>\n",
       "      <td>29177.000000</td>\n",
       "      <td>38.373019</td>\n",
       "      <td>-90.396561</td>\n",
       "      <td>0.000000</td>\n",
       "      <td>0.000000</td>\n",
       "      <td>0.000000</td>\n",
       "      <td>0.000000</td>\n",
       "      <td>0.000000</td>\n",
       "      <td>...</td>\n",
       "      <td>2.583700e+04</td>\n",
       "      <td>2.573500e+04</td>\n",
       "      <td>2.570100e+04</td>\n",
       "      <td>2.565800e+04</td>\n",
       "      <td>29177.000000</td>\n",
       "      <td>0.068000</td>\n",
       "      <td>0.073000</td>\n",
       "      <td>0.115000</td>\n",
       "      <td>0.204000</td>\n",
       "      <td>0.497000</td>\n",
       "    </tr>\n",
       "    <tr>\n",
       "      <th>75%</th>\n",
       "      <td>8.404508e+07</td>\n",
       "      <td>840.0</td>\n",
       "      <td>45081.000000</td>\n",
       "      <td>41.802830</td>\n",
       "      <td>-83.436796</td>\n",
       "      <td>0.000000</td>\n",
       "      <td>0.000000</td>\n",
       "      <td>0.000000</td>\n",
       "      <td>0.000000</td>\n",
       "      <td>0.000000</td>\n",
       "      <td>...</td>\n",
       "      <td>6.813600e+04</td>\n",
       "      <td>6.828200e+04</td>\n",
       "      <td>6.822000e+04</td>\n",
       "      <td>6.824100e+04</td>\n",
       "      <td>45081.000000</td>\n",
       "      <td>0.113000</td>\n",
       "      <td>0.115000</td>\n",
       "      <td>0.156000</td>\n",
       "      <td>0.247000</td>\n",
       "      <td>0.613000</td>\n",
       "    </tr>\n",
       "    <tr>\n",
       "      <th>max</th>\n",
       "      <td>8.405604e+07</td>\n",
       "      <td>840.0</td>\n",
       "      <td>56045.000000</td>\n",
       "      <td>69.314792</td>\n",
       "      <td>-67.628135</td>\n",
       "      <td>1.000000</td>\n",
       "      <td>1.000000</td>\n",
       "      <td>1.000000</td>\n",
       "      <td>1.000000</td>\n",
       "      <td>1.000000</td>\n",
       "      <td>...</td>\n",
       "      <td>1.006153e+07</td>\n",
       "      <td>1.001160e+07</td>\n",
       "      <td>9.968969e+06</td>\n",
       "      <td>9.943046e+06</td>\n",
       "      <td>56045.000000</td>\n",
       "      <td>0.432000</td>\n",
       "      <td>0.384000</td>\n",
       "      <td>0.422000</td>\n",
       "      <td>0.549000</td>\n",
       "      <td>0.889000</td>\n",
       "    </tr>\n",
       "  </tbody>\n",
       "</table>\n",
       "<p>8 rows × 630 columns</p>\n",
       "</div>"
      ],
      "text/plain": [
       "                UID   code3          FIPS          Lat        Long_  \\\n",
       "count  3.141000e+03  3141.0   3141.000000  3141.000000  3141.000000   \n",
       "mean   8.403039e+07   840.0  30392.602674    38.448156   -92.272006   \n",
       "std    1.515661e+04     0.0  15156.613190     5.292540    12.909318   \n",
       "min    8.400100e+07   840.0   1001.000000    19.601212  -174.159600   \n",
       "25%    8.401818e+07   840.0  18179.000000    34.693167   -98.218207   \n",
       "50%    8.402918e+07   840.0  29177.000000    38.373019   -90.396561   \n",
       "75%    8.404508e+07   840.0  45081.000000    41.802830   -83.436796   \n",
       "max    8.405604e+07   840.0  56045.000000    69.314792   -67.628135   \n",
       "\n",
       "           1/22/20      1/23/20      1/24/20      1/25/20      1/26/20  ...  \\\n",
       "count  3141.000000  3141.000000  3141.000000  3141.000000  3141.000000  ...   \n",
       "mean      0.000318     0.000318     0.000637     0.000637     0.001592  ...   \n",
       "std       0.017843     0.017843     0.025230     0.025230     0.039873  ...   \n",
       "min       0.000000     0.000000     0.000000     0.000000     0.000000  ...   \n",
       "25%       0.000000     0.000000     0.000000     0.000000     0.000000  ...   \n",
       "50%       0.000000     0.000000     0.000000     0.000000     0.000000  ...   \n",
       "75%       0.000000     0.000000     0.000000     0.000000     0.000000  ...   \n",
       "max       1.000000     1.000000     1.000000     1.000000     1.000000  ...   \n",
       "\n",
       "       POPESTIMATE2018  POPESTIMATE2019  POPESTIMATE042020  POPESTIMATE2020  \\\n",
       "count     3.141000e+03     3.141000e+03       3.141000e+03     3.141000e+03   \n",
       "mean      1.040525e+05     1.045274e+05       1.048677e+05     1.048949e+05   \n",
       "std       3.326200e+05     3.332156e+05       3.335848e+05     3.333719e+05   \n",
       "min       8.700000e+01     8.700000e+01       9.000000e+01     8.700000e+01   \n",
       "25%       1.096300e+04     1.093600e+04       1.091900e+04     1.092100e+04   \n",
       "50%       2.583700e+04     2.573500e+04       2.570100e+04     2.565800e+04   \n",
       "75%       6.813600e+04     6.828200e+04       6.822000e+04     6.824100e+04   \n",
       "max       1.006153e+07     1.001160e+07       9.968969e+06     9.943046e+06   \n",
       "\n",
       "           COUNTYFP        NEVER       RARELY    SOMETIMES   FREQUENTLY  \\\n",
       "count   3141.000000  3141.000000  3141.000000  3141.000000  3141.000000   \n",
       "mean   30392.602674     0.079952     0.082929     0.121340     0.207728   \n",
       "std    15156.613190     0.058543     0.055469     0.058007     0.063581   \n",
       "min     1001.000000     0.000000     0.000000     0.001000     0.029000   \n",
       "25%    18179.000000     0.034000     0.040000     0.079000     0.164000   \n",
       "50%    29177.000000     0.068000     0.073000     0.115000     0.204000   \n",
       "75%    45081.000000     0.113000     0.115000     0.156000     0.247000   \n",
       "max    56045.000000     0.432000     0.384000     0.422000     0.549000   \n",
       "\n",
       "            ALWAYS  \n",
       "count  3141.000000  \n",
       "mean      0.508044  \n",
       "std       0.152190  \n",
       "min       0.115000  \n",
       "25%       0.393000  \n",
       "50%       0.497000  \n",
       "75%       0.613000  \n",
       "max       0.889000  \n",
       "\n",
       "[8 rows x 630 columns]"
      ]
     },
     "execution_count": 40,
     "metadata": {},
     "output_type": "execute_result"
    }
   ],
   "source": [
    "# just run this cell\n",
    "covid_data.describe()"
   ]
  },
  {
   "cell_type": "markdown",
   "id": "7e020203",
   "metadata": {
    "deletable": false,
    "editable": false
   },
   "source": [
    "### Question 2a\n",
    "\n",
    "In this homework, we will use linear regression to predict the number of COVID-19 cases on September 12th, 2021 using linear regression. **per capita** (i.e. the number of COVID-19 cases in a county divided the population of the county). Define a column `'9/12/2021_cpc'` in `covid_data` corresponding to the number of cases per capita on September 12th, 2021. \n",
    "\n",
    "Note that we will **always** use the `'POPESTIMATE2020'` as the population of each county.\n",
    "\n",
    "*Hint*: The number of cases per capita should be the total number of cases in a county divided by the population of the county.\n",
    "\n",
    "<!--\n",
    "BEGIN QUESTION\n",
    "name: q2a\n",
    "points: 3\n",
    "-->"
   ]
  },
  {
   "cell_type": "code",
   "execution_count": 41,
   "id": "02d92a79",
   "metadata": {},
   "outputs": [],
   "source": [
    "covid_data['9/12/2021_cpc'] = covid_data['9/12/21']/covid_data['POPESTIMATE2020']"
   ]
  },
  {
   "cell_type": "code",
   "execution_count": 42,
   "id": "1d2fb2e6",
   "metadata": {
    "deletable": false,
    "editable": false
   },
   "outputs": [
    {
     "data": {
      "text/html": [
       "<p><strong><pre style='display: inline;'>q2a</pre></strong> passed!</p>"
      ],
      "text/plain": [
       "q2a results: All test cases passed!"
      ]
     },
     "execution_count": 42,
     "metadata": {},
     "output_type": "execute_result"
    }
   ],
   "source": [
    "grader.check(\"q2a\")"
   ]
  },
  {
   "cell_type": "markdown",
   "id": "72a5dc88",
   "metadata": {
    "deletable": false,
    "editable": false
   },
   "source": [
    "### Question 2b\n",
    "\n",
    "Assign `mask_data` that has six columns from the original `covid_data` table: the five mask columns and the `9/12/2021_cpc` column.\n",
    "\n",
    "**Note**: You should make a **copy** of these columns using `df.copy()` ([link](https://pandas.pydata.org/docs/reference/api/pandas.DataFrame.copy.html)).\n",
    "\n",
    "\n",
    "<!--\n",
    "BEGIN QUESTION\n",
    "name: q2b\n",
    "points: 1\n",
    "-->"
   ]
  },
  {
   "cell_type": "code",
   "execution_count": 43,
   "id": "959b0a58",
   "metadata": {},
   "outputs": [
    {
     "data": {
      "text/html": [
       "<div>\n",
       "<style scoped>\n",
       "    .dataframe tbody tr th:only-of-type {\n",
       "        vertical-align: middle;\n",
       "    }\n",
       "\n",
       "    .dataframe tbody tr th {\n",
       "        vertical-align: top;\n",
       "    }\n",
       "\n",
       "    .dataframe thead th {\n",
       "        text-align: right;\n",
       "    }\n",
       "</style>\n",
       "<table border=\"1\" class=\"dataframe\">\n",
       "  <thead>\n",
       "    <tr style=\"text-align: right;\">\n",
       "      <th></th>\n",
       "      <th>NEVER</th>\n",
       "      <th>RARELY</th>\n",
       "      <th>SOMETIMES</th>\n",
       "      <th>FREQUENTLY</th>\n",
       "      <th>ALWAYS</th>\n",
       "      <th>9/12/2021_cpc</th>\n",
       "    </tr>\n",
       "  </thead>\n",
       "  <tbody>\n",
       "    <tr>\n",
       "      <th>0</th>\n",
       "      <td>0.053</td>\n",
       "      <td>0.074</td>\n",
       "      <td>0.134</td>\n",
       "      <td>0.295</td>\n",
       "      <td>0.444</td>\n",
       "      <td>0.165411</td>\n",
       "    </tr>\n",
       "    <tr>\n",
       "      <th>1</th>\n",
       "      <td>0.083</td>\n",
       "      <td>0.059</td>\n",
       "      <td>0.098</td>\n",
       "      <td>0.323</td>\n",
       "      <td>0.436</td>\n",
       "      <td>0.152429</td>\n",
       "    </tr>\n",
       "    <tr>\n",
       "      <th>2</th>\n",
       "      <td>0.067</td>\n",
       "      <td>0.121</td>\n",
       "      <td>0.120</td>\n",
       "      <td>0.201</td>\n",
       "      <td>0.491</td>\n",
       "      <td>0.134003</td>\n",
       "    </tr>\n",
       "    <tr>\n",
       "      <th>3</th>\n",
       "      <td>0.020</td>\n",
       "      <td>0.034</td>\n",
       "      <td>0.096</td>\n",
       "      <td>0.278</td>\n",
       "      <td>0.572</td>\n",
       "      <td>0.171440</td>\n",
       "    </tr>\n",
       "    <tr>\n",
       "      <th>4</th>\n",
       "      <td>0.053</td>\n",
       "      <td>0.114</td>\n",
       "      <td>0.180</td>\n",
       "      <td>0.194</td>\n",
       "      <td>0.459</td>\n",
       "      <td>0.158538</td>\n",
       "    </tr>\n",
       "    <tr>\n",
       "      <th>...</th>\n",
       "      <td>...</td>\n",
       "      <td>...</td>\n",
       "      <td>...</td>\n",
       "      <td>...</td>\n",
       "      <td>...</td>\n",
       "      <td>...</td>\n",
       "    </tr>\n",
       "    <tr>\n",
       "      <th>3136</th>\n",
       "      <td>0.061</td>\n",
       "      <td>0.295</td>\n",
       "      <td>0.230</td>\n",
       "      <td>0.146</td>\n",
       "      <td>0.268</td>\n",
       "      <td>0.143205</td>\n",
       "    </tr>\n",
       "    <tr>\n",
       "      <th>3137</th>\n",
       "      <td>0.095</td>\n",
       "      <td>0.157</td>\n",
       "      <td>0.160</td>\n",
       "      <td>0.247</td>\n",
       "      <td>0.340</td>\n",
       "      <td>0.196238</td>\n",
       "    </tr>\n",
       "    <tr>\n",
       "      <th>3138</th>\n",
       "      <td>0.098</td>\n",
       "      <td>0.278</td>\n",
       "      <td>0.154</td>\n",
       "      <td>0.207</td>\n",
       "      <td>0.264</td>\n",
       "      <td>0.158496</td>\n",
       "    </tr>\n",
       "    <tr>\n",
       "      <th>3139</th>\n",
       "      <td>0.204</td>\n",
       "      <td>0.155</td>\n",
       "      <td>0.069</td>\n",
       "      <td>0.285</td>\n",
       "      <td>0.287</td>\n",
       "      <td>0.144330</td>\n",
       "    </tr>\n",
       "    <tr>\n",
       "      <th>3140</th>\n",
       "      <td>0.142</td>\n",
       "      <td>0.129</td>\n",
       "      <td>0.148</td>\n",
       "      <td>0.207</td>\n",
       "      <td>0.374</td>\n",
       "      <td>0.122942</td>\n",
       "    </tr>\n",
       "  </tbody>\n",
       "</table>\n",
       "<p>3141 rows × 6 columns</p>\n",
       "</div>"
      ],
      "text/plain": [
       "      NEVER  RARELY  SOMETIMES  FREQUENTLY  ALWAYS  9/12/2021_cpc\n",
       "0     0.053   0.074      0.134       0.295   0.444       0.165411\n",
       "1     0.083   0.059      0.098       0.323   0.436       0.152429\n",
       "2     0.067   0.121      0.120       0.201   0.491       0.134003\n",
       "3     0.020   0.034      0.096       0.278   0.572       0.171440\n",
       "4     0.053   0.114      0.180       0.194   0.459       0.158538\n",
       "...     ...     ...        ...         ...     ...            ...\n",
       "3136  0.061   0.295      0.230       0.146   0.268       0.143205\n",
       "3137  0.095   0.157      0.160       0.247   0.340       0.196238\n",
       "3138  0.098   0.278      0.154       0.207   0.264       0.158496\n",
       "3139  0.204   0.155      0.069       0.285   0.287       0.144330\n",
       "3140  0.142   0.129      0.148       0.207   0.374       0.122942\n",
       "\n",
       "[3141 rows x 6 columns]"
      ]
     },
     "execution_count": 43,
     "metadata": {},
     "output_type": "execute_result"
    }
   ],
   "source": [
    "mask_data = covid_data.copy()[['NEVER', 'RARELY', 'SOMETIMES', 'FREQUENTLY', 'ALWAYS',  '9/12/2021_cpc']]\n",
    "mask_data"
   ]
  },
  {
   "cell_type": "code",
   "execution_count": 44,
   "id": "9bdfe40f",
   "metadata": {
    "deletable": false,
    "editable": false
   },
   "outputs": [
    {
     "data": {
      "text/html": [
       "<p><strong><pre style='display: inline;'>q2b</pre></strong> passed!</p>"
      ],
      "text/plain": [
       "q2b results: All test cases passed!"
      ]
     },
     "execution_count": 44,
     "metadata": {},
     "output_type": "execute_result"
    }
   ],
   "source": [
    "grader.check(\"q2b\")"
   ]
  },
  {
   "cell_type": "markdown",
   "id": "dd44367b",
   "metadata": {
    "deletable": false,
    "editable": false
   },
   "source": [
    "<!-- BEGIN QUESTION -->\n",
    "\n",
    "### Question 2c\n",
    "\n",
    "In our first model, we will use county-wise mask usage data to predict the number of COVID-19 cases on September 12th, 2021 (i.e., the column `9/12/2021_cpc`). Create a visualization that shows the pairwise correlation between each combination of columns in `mask_data`. For 2-D visualizations, consider Seaborn's [heatmap](https://seaborn.pydata.org/generated/seaborn.heatmap.html).\n",
    "\n",
    "*Hint*: You should be plotting 36 values corresponding to the pairwise correlations of the six columns in `mask_data`.\n",
    "\n",
    "<!--\n",
    "BEGIN QUESTION\n",
    "name: q2c\n",
    "points: 3\n",
    "manual: True\n",
    "-->"
   ]
  },
  {
   "cell_type": "code",
   "execution_count": 45,
   "id": "57a938b2",
   "metadata": {},
   "outputs": [
    {
     "data": {
      "text/plain": [
       "<AxesSubplot:>"
      ]
     },
     "execution_count": 45,
     "metadata": {},
     "output_type": "execute_result"
    },
    {
     "data": {
      "image/png": "[encoded data removed]",
      "text/plain": [
       "<Figure size 432x288 with 2 Axes>"
      ]
     },
     "metadata": {
      "needs_background": "light"
     },
     "output_type": "display_data"
    }
   ],
   "source": [
    "sns.heatmap(mask_data.corr(),center = 0)"
   ]
  },
  {
   "cell_type": "markdown",
   "id": "1b2b5ac0",
   "metadata": {
    "deletable": false,
    "editable": false
   },
   "source": [
    "<!-- END QUESTION -->\n",
    "\n",
    "<!-- BEGIN QUESTION -->\n",
    "\n",
    "### Question 2d\n",
    "\n",
    "(1) Describe the trends and takeaways visible in the visualization of pairwise correlations you plotted in Question 2c.\n",
    "\n",
    "(2) Consider the following linear regression model\n",
    "$$\\hat{y} = \\theta^T x,$$\n",
    "where $\\hat{y}$ is the predicted number of COVID-19 cases per capita on 9/12/2021 and $x$ is the five mask usage features. Comment on the quality of predictions and interpretability of features if we fit this linear model to the data.\n",
    "\n",
    "<!--\n",
    "BEGIN QUESTION\n",
    "name: q2d\n",
    "points: 3\n",
    "manual: True\n",
    "-->"
   ]
  },
  {
   "cell_type": "markdown",
   "id": "e6bbc5b8",
   "metadata": {},
   "source": [
    "1) The more frequently people are wearing mask, the smaller the correlation to covid cases is. Which means putting mask on have a positive effect on stoping the spread of covid, and people who seldomly wearing mask are more likely to have covid.\n",
    "2) From the correlation heatmap above, we could see the relationship of each features to covid cases are diagonally symmetric, thus transposing the matrix of features should not have any influence on final prediction."
   ]
  },
  {
   "cell_type": "markdown",
   "id": "212a6888",
   "metadata": {
    "tags": []
   },
   "source": [
    "<!-- END QUESTION -->\n",
    "\n",
    "\n",
    "\n",
    "<br/><br/><br/>\n",
    "\n",
    "<hr style=\"border: 5px solid #003262;\" />\n",
    "<hr style=\"border: 1px solid #fdb515;\" />\n",
    "\n",
    "## Question 3: Creating a Preliminary COVID-19 Model\n",
    "\n",
    "This question will guide you through creating a supervised learning framework that will predict the number of COVID-19 cases per capita given various COVID-19 safety protocols that have been implemented. Then, we will investigate the bias, variance, and observational noise of this framework in the next question.\n",
    "\n",
    "Note that any answer responses without the appropriate work (i.e. code or explanation) will be subject to additional review and will not receive any credit."
   ]
  },
  {
   "cell_type": "markdown",
   "id": "8e9abffd",
   "metadata": {
    "deletable": false,
    "editable": false
   },
   "source": [
    "### Question 3a\n",
    "\n",
    "Train a linear regression model using Scikit-learn, with an intercept term to predict the number of COVID-19 cases per capita for September 12, 2021 using county-wise mask usage data from `mask_data`. Use `train_test_split` to evaluate your model's RMSE on a held-out test set with 33% of the COVID-19 data; call the resulting splits `X_train`, `X_test`, `y_train`, and `y_test`.\n",
    "\n",
    "To pass the autograder, make sure to set the parameter `random_state` to 42 in your call to `train_test_split` to generate a reproducible data split ([documentation](http://scikit-learn.org/stable/modules/generated/sklearn.model_selection.train_test_split.html)).\n",
    "\n",
    "\n",
    "<!--\n",
    "BEGIN QUESTION\n",
    "name: q3a\n",
    "points: 5\n",
    "-->"
   ]
  },
  {
   "cell_type": "code",
   "execution_count": 46,
   "id": "b090baf9",
   "metadata": {},
   "outputs": [
    {
     "data": {
      "text/plain": [
       "(0.03552339478226883, 0.037954861477287)"
      ]
     },
     "execution_count": 46,
     "metadata": {},
     "output_type": "execute_result"
    }
   ],
   "source": [
    "# Create train/test sets\n",
    "X = mask_data[['NEVER', 'RARELY', 'SOMETIMES', 'FREQUENTLY', 'ALWAYS']]\n",
    "y = pd.Series(mask_data['9/12/2021_cpc'])\n",
    "X_train, X_test, y_train, y_test = train_test_split(X,y, test_size=0.33, train_size=0.67, random_state=42)\n",
    "\n",
    "# fit the linear model and make predictions\n",
    "linear_model = lm.LinearRegression(fit_intercept=True)\n",
    "linear_model.fit(X_train,y_train)\n",
    "\n",
    "# compute RMSE on train and test sets\n",
    "train_rmse_cpc = float(np.sqrt(np.mean(np.power((y_train - linear_model.predict(X_train)),2))))\n",
    "test_rmse_cpc = float(np.sqrt(np.mean(np.power((y_test - linear_model.predict(X_test)),2))))\n",
    "\n",
    "train_rmse_cpc, test_rmse_cpc"
   ]
  },
  {
   "cell_type": "code",
   "execution_count": 47,
   "id": "b5605c13",
   "metadata": {
    "deletable": false,
    "editable": false
   },
   "outputs": [
    {
     "data": {
      "text/html": [
       "<p><strong><pre style='display: inline;'>q3a</pre></strong> passed!</p>"
      ],
      "text/plain": [
       "q3a results: All test cases passed!"
      ]
     },
     "execution_count": 47,
     "metadata": {},
     "output_type": "execute_result"
    }
   ],
   "source": [
    "grader.check(\"q3a\")"
   ]
  },
  {
   "cell_type": "markdown",
   "id": "92d76d23",
   "metadata": {
    "deletable": false,
    "editable": false
   },
   "source": [
    "<!-- BEGIN QUESTION -->\n",
    "\n",
    "### Question 3b\n",
    "\n",
    "Visualize the model performance from part (a) by plotting two visualizations: (1) the predictions vs observations on the test set and (2) the residuals for the test set.\n",
    "\n",
    "Some notes:\n",
    "* We've used `plt.subplot` ([documentation](https://matplotlib.org/stable/gallery/subplots_axes_and_figures/subplots_demo.html)) so that you can view both visualizations side-by-side. For example, `plt.subplot(121)` sets the plottable area to the first column of a 1x2 plot grid; you can then call Matplotlib and Seaborn functions to plot that area, before the next `plt.subplot(122)` area is set.\n",
    "* Remember to add a guiding line to both plot where $\\hat{y} = y$, i.e., where the residual is 0.\n",
    "* Remember to label your axes.\n",
    "\n",
    "<!--\n",
    "BEGIN QUESTION\n",
    "name: q3b\n",
    "points: 3\n",
    "manual: True\n",
    "-->"
   ]
  },
  {
   "cell_type": "code",
   "execution_count": 48,
   "id": "dfe02a20",
   "metadata": {},
   "outputs": [
    {
     "data": {
      "image/png": "[encoded data removed]",
      "text/plain": [
       "<Figure size 864x432 with 2 Axes>"
      ]
     },
     "metadata": {
      "needs_background": "light"
     },
     "output_type": "display_data"
    }
   ],
   "source": [
    "plt.figure(figsize=(12,6))      # do not change this line\n",
    "\n",
    "plt.subplot(121)                # do not change this line\n",
    "# (1) predictions vs observations\n",
    "plt.scatter(y_test, linear_model.predict(X_test),s=3, alpha=1)\n",
    "plt.plot(linear_model.predict(X_test),linear_model.predict(X_test))\n",
    "plt.xlabel('Predictions')\n",
    "plt.ylabel('Observations')\n",
    "plt.title('predictions vs observations')\n",
    "\n",
    "plt.subplot(122)               # do not change this line\n",
    "# (2) residual plot\n",
    "plt.scatter(linear_model.predict(X_test),y_test-linear_model.predict(X_test),s=3, alpha=1)\n",
    "# plt.plot(linear_model.predict(X_test),linear_model.predict(X_test))\n",
    "plt.axhline(0)\n",
    "plt.xlabel('Fitted Value y_hat')\n",
    "plt.ylabel('Residual y - y_hat')\n",
    "plt.title('Residual plot')\n",
    "\n",
    "\n",
    "\n",
    "plt.tight_layout()             # do not change this line"
   ]
  },
  {
   "cell_type": "markdown",
   "id": "928ff963",
   "metadata": {
    "deletable": false,
    "editable": false
   },
   "source": [
    "<!-- END QUESTION -->\n",
    "\n",
    "<!-- BEGIN QUESTION -->\n",
    "\n",
    "### Question 3c\n",
    "\n",
    "Describe what the plots in part (b) indicates about this linear model. Justify your answer.\n",
    "\n",
    "<!--\n",
    "BEGIN QUESTION\n",
    "name: q3c\n",
    "points: 3\n",
    "manual: True\n",
    "-->"
   ]
  },
  {
   "cell_type": "markdown",
   "id": "a76b532a",
   "metadata": {},
   "source": [
    "The left plot of part b shows the relationship between predictions are observations. We could see a linear pattern from this plot, which means our model is working. The right plot is the residual of our model, with points represents the residual for each prediction values. We could see residuals are roughly evenly distributed above/below x-axis, which indicates a reasonable prediction."
   ]
  },
  {
   "cell_type": "markdown",
   "id": "b7bbc584",
   "metadata": {},
   "source": [
    "#### <!-- END QUESTION -->\n",
    "\n",
    "\n",
    "\n",
    "<br/><br/><br/>\n",
    "\n",
    "<hr style=\"border: 5px solid #003262;\" />\n",
    "<hr style=\"border: 1px solid #fdb515;\" />\n",
    "\n",
    "## Question 4: Performing Multicollinearity Analysis\n",
    "\n",
    "This question will guide you through performing an analysis that can reveal potential multicollinearity in our features, which is unideal.\n",
    "\n",
    "Note that any answer responses without the appropriate work (i.e. code or math) will be subject to additional review and will not receive any credit."
   ]
  },
  {
   "cell_type": "markdown",
   "id": "e9ce9225",
   "metadata": {
    "deletable": false,
    "editable": false
   },
   "source": [
    "### Question 4a\n",
    "\n",
    "Fill in the blanks below to implement the `bootstrap_sample` function, that returns $k$ randomly drawn samples from a dataset $\\mathcal{D}$ of size $n$ with replacement, each of size $n$ (i.e. same size as the dataset). In other words, the returned object should be a Python list `samples` containing $k$ Pandas DataFrames, each of which have $n$ rows.\n",
    "\n",
    "*Hint*: Take a look at the [documentation](https://pandas.pydata.org/docs/reference/api/pandas.DataFrame.sample.html) for `df.sample`!\n",
    "\n",
    "<!--\n",
    "BEGIN QUESTION\n",
    "name: q4a\n",
    "points: 5\n",
    "-->"
   ]
  },
  {
   "cell_type": "code",
   "execution_count": 49,
   "id": "63f53d6f",
   "metadata": {},
   "outputs": [
    {
     "data": {
      "text/html": [
       "<div>\n",
       "<style scoped>\n",
       "    .dataframe tbody tr th:only-of-type {\n",
       "        vertical-align: middle;\n",
       "    }\n",
       "\n",
       "    .dataframe tbody tr th {\n",
       "        vertical-align: top;\n",
       "    }\n",
       "\n",
       "    .dataframe thead th {\n",
       "        text-align: right;\n",
       "    }\n",
       "</style>\n",
       "<table border=\"1\" class=\"dataframe\">\n",
       "  <thead>\n",
       "    <tr style=\"text-align: right;\">\n",
       "      <th></th>\n",
       "      <th>NEVER</th>\n",
       "      <th>RARELY</th>\n",
       "      <th>SOMETIMES</th>\n",
       "      <th>FREQUENTLY</th>\n",
       "      <th>ALWAYS</th>\n",
       "      <th>9/12/2021_cpc</th>\n",
       "    </tr>\n",
       "  </thead>\n",
       "  <tbody>\n",
       "    <tr>\n",
       "      <th>832</th>\n",
       "      <td>0.077</td>\n",
       "      <td>0.151</td>\n",
       "      <td>0.176</td>\n",
       "      <td>0.183</td>\n",
       "      <td>0.413</td>\n",
       "      <td>0.122711</td>\n",
       "    </tr>\n",
       "    <tr>\n",
       "      <th>386</th>\n",
       "      <td>0.085</td>\n",
       "      <td>0.117</td>\n",
       "      <td>0.230</td>\n",
       "      <td>0.152</td>\n",
       "      <td>0.416</td>\n",
       "      <td>0.172769</td>\n",
       "    </tr>\n",
       "    <tr>\n",
       "      <th>962</th>\n",
       "      <td>0.020</td>\n",
       "      <td>0.183</td>\n",
       "      <td>0.101</td>\n",
       "      <td>0.309</td>\n",
       "      <td>0.387</td>\n",
       "      <td>0.117563</td>\n",
       "    </tr>\n",
       "    <tr>\n",
       "      <th>2715</th>\n",
       "      <td>0.059</td>\n",
       "      <td>0.136</td>\n",
       "      <td>0.098</td>\n",
       "      <td>0.254</td>\n",
       "      <td>0.452</td>\n",
       "      <td>0.095373</td>\n",
       "    </tr>\n",
       "    <tr>\n",
       "      <th>1421</th>\n",
       "      <td>0.056</td>\n",
       "      <td>0.135</td>\n",
       "      <td>0.133</td>\n",
       "      <td>0.189</td>\n",
       "      <td>0.486</td>\n",
       "      <td>0.165066</td>\n",
       "    </tr>\n",
       "    <tr>\n",
       "      <th>...</th>\n",
       "      <td>...</td>\n",
       "      <td>...</td>\n",
       "      <td>...</td>\n",
       "      <td>...</td>\n",
       "      <td>...</td>\n",
       "      <td>...</td>\n",
       "    </tr>\n",
       "    <tr>\n",
       "      <th>2422</th>\n",
       "      <td>0.084</td>\n",
       "      <td>0.176</td>\n",
       "      <td>0.115</td>\n",
       "      <td>0.251</td>\n",
       "      <td>0.375</td>\n",
       "      <td>0.150215</td>\n",
       "    </tr>\n",
       "    <tr>\n",
       "      <th>1627</th>\n",
       "      <td>0.097</td>\n",
       "      <td>0.278</td>\n",
       "      <td>0.119</td>\n",
       "      <td>0.183</td>\n",
       "      <td>0.323</td>\n",
       "      <td>0.098151</td>\n",
       "    </tr>\n",
       "    <tr>\n",
       "      <th>610</th>\n",
       "      <td>0.146</td>\n",
       "      <td>0.196</td>\n",
       "      <td>0.047</td>\n",
       "      <td>0.219</td>\n",
       "      <td>0.392</td>\n",
       "      <td>0.155467</td>\n",
       "    </tr>\n",
       "    <tr>\n",
       "      <th>206</th>\n",
       "      <td>0.010</td>\n",
       "      <td>0.094</td>\n",
       "      <td>0.049</td>\n",
       "      <td>0.186</td>\n",
       "      <td>0.661</td>\n",
       "      <td>0.051807</td>\n",
       "    </tr>\n",
       "    <tr>\n",
       "      <th>1543</th>\n",
       "      <td>0.098</td>\n",
       "      <td>0.158</td>\n",
       "      <td>0.121</td>\n",
       "      <td>0.198</td>\n",
       "      <td>0.424</td>\n",
       "      <td>0.104264</td>\n",
       "    </tr>\n",
       "  </tbody>\n",
       "</table>\n",
       "<p>3141 rows × 6 columns</p>\n",
       "</div>"
      ],
      "text/plain": [
       "      NEVER  RARELY  SOMETIMES  FREQUENTLY  ALWAYS  9/12/2021_cpc\n",
       "832   0.077   0.151      0.176       0.183   0.413       0.122711\n",
       "386   0.085   0.117      0.230       0.152   0.416       0.172769\n",
       "962   0.020   0.183      0.101       0.309   0.387       0.117563\n",
       "2715  0.059   0.136      0.098       0.254   0.452       0.095373\n",
       "1421  0.056   0.135      0.133       0.189   0.486       0.165066\n",
       "...     ...     ...        ...         ...     ...            ...\n",
       "2422  0.084   0.176      0.115       0.251   0.375       0.150215\n",
       "1627  0.097   0.278      0.119       0.183   0.323       0.098151\n",
       "610   0.146   0.196      0.047       0.219   0.392       0.155467\n",
       "206   0.010   0.094      0.049       0.186   0.661       0.051807\n",
       "1543  0.098   0.158      0.121       0.198   0.424       0.104264\n",
       "\n",
       "[3141 rows x 6 columns]"
      ]
     },
     "execution_count": 49,
     "metadata": {},
     "output_type": "execute_result"
    }
   ],
   "source": [
    "def bootstrap_sample(data, k):\n",
    "    \"\"\"\n",
    "    Performs bootstrap sampling on data to obtain k samples of size n.\n",
    "    \n",
    "    Arguments:\n",
    "        data - Dataset contained as a Pandas DataFrame \n",
    "        k - Number of randomly drawn samples\n",
    "    \n",
    "    Returns:\n",
    "        samples - List containing k Pandas DataFrames of size n each\n",
    "                  corresponding to each sample  \n",
    "    \"\"\"\n",
    "    samples = []\n",
    "    for i in range(k):\n",
    "        temp_sample = data.sample(n=len(data), replace = True)\n",
    "        samples.append(temp_sample)\n",
    "    return samples\n",
    "\n",
    "bootstrap_sample(mask_data, 1)[0]"
   ]
  },
  {
   "cell_type": "code",
   "execution_count": 50,
   "id": "71e801d9",
   "metadata": {
    "deletable": false,
    "editable": false,
    "tags": []
   },
   "outputs": [
    {
     "data": {
      "text/html": [
       "<p><strong><pre style='display: inline;'>q4a</pre></strong> passed!</p>"
      ],
      "text/plain": [
       "q4a results: All test cases passed!"
      ]
     },
     "execution_count": 50,
     "metadata": {},
     "output_type": "execute_result"
    }
   ],
   "source": [
    "grader.check(\"q4a\")"
   ]
  },
  {
   "cell_type": "markdown",
   "id": "09e07d66",
   "metadata": {
    "deletable": false,
    "editable": false
   },
   "source": [
    "### Question 4b\n",
    "\n",
    "Using the function from the previous part, generate 1000 bootstrapped samples from the original `mask_data` dataframe. Use Scikit-learn to fit a linear regression model of mask features (with an intercept term) to predict the `9/12/2021_cpc` response. You should fit your model to **each** of the 1000 datasets such that we have 1000 trained models. Make sure to store each of the 1000 trained models in the Python list `models`.\n",
    "\n",
    "Note: You *should not* create any validation or testing sets in this subpart; you should fit your model to the entire resampled dataframe.\n",
    "\n",
    "<!--\n",
    "BEGIN QUESTION\n",
    "name: q4b\n",
    "points: 5\n",
    "-->"
   ]
  },
  {
   "cell_type": "code",
   "execution_count": 51,
   "id": "72735821",
   "metadata": {},
   "outputs": [],
   "source": [
    "np.random.seed(42)\n",
    "\n",
    "datasets = bootstrap_sample(mask_data, 1000)\n",
    "models = []\n",
    "\n",
    "for i in range(1000):\n",
    "    X = datasets[i][['NEVER', 'RARELY', 'SOMETIMES', 'FREQUENTLY', 'ALWAYS']]\n",
    "    y = pd.Series(datasets[i]['9/12/2021_cpc'])\n",
    "    linear_model_temp = lm.LinearRegression(fit_intercept=True)\n",
    "    linear_model_temp.fit(X,y)\n",
    "    models.append(linear_model_temp)\n",
    "\n",
    "# These take up a lot of memory, so we should remove them!\n",
    "del datasets"
   ]
  },
  {
   "cell_type": "code",
   "execution_count": 52,
   "id": "c1ff4b79",
   "metadata": {
    "deletable": false,
    "editable": false
   },
   "outputs": [
    {
     "data": {
      "text/html": [
       "<p><strong><pre style='display: inline;'>q4b</pre></strong> passed!</p>"
      ],
      "text/plain": [
       "q4b results: All test cases passed!"
      ]
     },
     "execution_count": 52,
     "metadata": {},
     "output_type": "execute_result"
    }
   ],
   "source": [
    "grader.check(\"q4b\")"
   ]
  },
  {
   "cell_type": "markdown",
   "id": "54d83154",
   "metadata": {
    "deletable": false,
    "editable": false
   },
   "source": [
    "### Question 4c\n",
    "\n",
    "Fill in the blanks below in the `confidence_interval` function to generate a 95% confidence interval for each of our parameters $\\theta_i$, including an intercept term if applicable. All of the helper code to extract coefficients from our trained models has been implemented for you already.\n",
    "\n",
    "<!--\n",
    "BEGIN QUESTION\n",
    "name: q4c\n",
    "points: 2\n",
    "-->"
   ]
  },
  {
   "cell_type": "code",
   "execution_count": 53,
   "id": "1a1df78f",
   "metadata": {},
   "outputs": [
    {
     "data": {
      "text/markdown": [
       "#### Confidence Intervals:"
      ],
      "text/plain": [
       "<IPython.core.display.Markdown object>"
      ]
     },
     "metadata": {},
     "output_type": "display_data"
    },
    {
     "data": {
      "text/markdown": [
       "|parameter|lower|upper|\n",
       "----|----|----|\n",
       "|$\\theta_0$|-2.6200726729046937|1.2507871842262086|\n",
       "|$\\theta_1$|-1.0896828874135185|2.798332585238362|\n",
       "|$\\theta_2$|-1.1461331540818134|2.744519025435908|\n",
       "|$\\theta_3$|-1.018294369222972|2.8436420433762395|\n",
       "|$\\theta_4$|-1.1582158941591825|2.7329392573407363|\n",
       "|$\\theta_5$|-1.1477854499077667|2.7195109052029274|"
      ],
      "text/plain": [
       "<IPython.core.display.Markdown object>"
      ]
     },
     "metadata": {},
     "output_type": "display_data"
    }
   ],
   "source": [
    "def extract_coefs(models, include_intercept = True):\n",
    "    \"\"\"\n",
    "    NOTE: This function has already been implemented. You do not need to modify this!\n",
    "    \n",
    "    Extracts coefficients of all the linear regression models in models, and returns\n",
    "    it as a NumPy array with one model's coefficients as each row.\n",
    "    \n",
    "    Arguments:\n",
    "        models - Contains k sklearn LinearRegression models, each with p + 1 coefficients\n",
    "        include_intercept - Whether to include intercept in returned coefficients\n",
    "    \n",
    "    Returns:\n",
    "        coef_array - Coefficients of all k models, each with p + 1 coefficients (if intercept\n",
    "                     enabled, otherwise p). Returned object is k x (p + 1) NumPy array.\n",
    "    \"\"\"\n",
    "    coef_array = np.zeros(shape = (len(models), len(models[0].coef_) + 1))\n",
    "    for i, m in enumerate(models):\n",
    "        coef_array[i, 0] = m.intercept_\n",
    "        coef_array[i, 1:] = m.coef_\n",
    "    if include_intercept:\n",
    "        return coef_array \n",
    "    return coef_array[:, 1:]\n",
    "\n",
    "def confidence_interval(coefs):\n",
    "    \"\"\"\n",
    "    Calculates confidence intervals for each theta_i based on coefficients of \n",
    "    bootstrapped models. Returns output as a list of confidence intervals.\n",
    "    \n",
    "    Arguments:\n",
    "        coefs - Output of extract_coefs, a k x (p + 1) or k x p NumPy array containing\n",
    "                coefficients of bootstrapped models\n",
    "    \n",
    "    Returns:\n",
    "        cis - Confidence intervals of each parameter theta_i in the form of a \n",
    "              list like this: [(0.5, 0.75), (0.2, 0.4), ...]\n",
    "    \"\"\"\n",
    "    cis = []\n",
    "    \n",
    "    # FILL IN CODE BELOW\n",
    "    for i in range(len(coefs[0])):\n",
    "        theta_i_values = coefs[:,i]\n",
    "        theta_i_lower_ci, theta_i_upper_ci = np.percentile(theta_i_values, q = 2.5), np.percentile(theta_i_values, q = 97.5)\n",
    "        cis.append((theta_i_lower_ci, theta_i_upper_ci))\n",
    "    \n",
    "    return cis\n",
    "\n",
    "...\n",
    "\n",
    "# compute confidence intervals\n",
    "model_coefs = extract_coefs(models)\n",
    "cis = confidence_interval(model_coefs)\n",
    "\n",
    "# pretty print in a table\n",
    "display(Markdown('#### Confidence Intervals:'))\n",
    "md_list = [\"|parameter|lower|upper|\",\n",
    "           \"----|----|----|\"]\n",
    "md_list += [fr\"|$\\theta_{i}$|{lci}|{uci}|\" for i, (lci, uci) in enumerate(cis)]\n",
    "display(Markdown('\\n'.join(md_list)))"
   ]
  },
  {
   "cell_type": "code",
   "execution_count": 54,
   "id": "e14dec48",
   "metadata": {
    "deletable": false,
    "editable": false
   },
   "outputs": [
    {
     "data": {
      "text/html": [
       "<p><strong><pre style='display: inline;'>q4c</pre></strong> passed!</p>"
      ],
      "text/plain": [
       "q4c results: All test cases passed!"
      ]
     },
     "execution_count": 54,
     "metadata": {},
     "output_type": "execute_result"
    }
   ],
   "source": [
    "grader.check(\"q4c\")"
   ]
  },
  {
   "cell_type": "markdown",
   "id": "4bf266e7",
   "metadata": {
    "deletable": false,
    "editable": false
   },
   "source": [
    "<!-- BEGIN QUESTION -->\n",
    "\n",
    "### Question 4d\n",
    "\n",
    "Interpret the confidence intervals above for each of the $\\theta_i$, where $\\theta_0$ is the intercept term and the remaining $\\theta_i$ for $i > 0$ are parameters corresponding to mask usage features. What does this indicate about our data and our model?\n",
    "\n",
    "Describe a mathematical reason why this could be happening.\n",
    "\n",
    "*Hint*: Take a look at the design matrix!\n",
    "\n",
    "<!--\n",
    "BEGIN QUESTION\n",
    "name: q4d\n",
    "points: 3\n",
    "manual: True\n",
    "-->"
   ]
  },
  {
   "cell_type": "markdown",
   "id": "d37b4bd1",
   "metadata": {},
   "source": [
    "This means we have 95% of confidence to say our thetas are in above intervals. For theta 1-5, since they represents the frequency of wearing mask, and the sum of these five features are one, they are obviously correlated, which explains why the confidence intervals of them are close to each other."
   ]
  },
  {
   "cell_type": "markdown",
   "id": "e83faaa3",
   "metadata": {},
   "source": [
    "<!-- END QUESTION -->\n",
    "\n",
    "\n",
    "\n",
    "<br/><br/><br/>\n",
    "\n",
    "<hr style=\"border: 5px solid #003262;\" />\n",
    "<hr style=\"border: 1px solid #fdb515;\" />\n",
    "\n",
    "## Question 5: Performing Bias-Variance Analysis\n",
    "\n",
    "This question will guide you through performing an analysis that can estimate the bias and variance of our models, which can be helpful in modeling.\n",
    "\n",
    "Note that any answer responses without the appropriate work (i.e. code or explanation) will be subject to additional review and will not receive any credit."
   ]
  },
  {
   "cell_type": "markdown",
   "id": "da98a231",
   "metadata": {
    "deletable": false,
    "editable": false
   },
   "source": [
    "### Question 5a\n",
    "\n",
    "We will use the same bootstrapped models contained in the Python list `models` to estimate our **model variance**. To do this, recall that the model variance on a data point is simply the variance of our predictions on that sample point. From the bias-variance decomposition in lecture, for a parametric model $\\hat{Y}(x) = f_{\\hat{\\theta}}(x)$:\n",
    "\n",
    "$$\\text{model variance} = \\mathrm{Var}(f_{\\hat{\\theta}}(x))$$\n",
    "\n",
    "To investigate the variance in our test predictions, we sample a particular data point $(x_i, y_i)$. Define the **model risk** for this point as the mean square error over all possible fitted models:\n",
    "\n",
    "$$\\mathbb{E}\\left[\\left(y_i - f_{\\hat{\\theta}}(x_i)\\right)^2\\right]$$\n",
    "\n",
    "Note that in contrast to lecture, you are considering a particular observation of the random response variable $Y = y_i$. Therefore model risk is an expectation over the estimate $\\hat{\\theta}$, which is a function of the random sample you used to fit your model.\n",
    "\n",
    "Using the bootstrapped estimates `models`, approximate the ratio of model variance to model risk for the datapoint $i = 100$, i.e., $(x_{100}, y_{100})$. You can interpret this ratio as the the proportion of the expected square error on the data point \"captured\" by the model variance. Since you bootstrapped 1000 models, you can generate 1000 predictions for the given $x_i$. Recall that `X` is the design matrix of mask features, and `y` is the `9/12/2021_cpc` response.\n",
    "\n",
    "Assign `prop_var` to the computed, approximate ratio:\n",
    "\n",
    "$$\n",
    "\\frac{\\mathrm{Var}\\left(f_{\\hat{\\theta}}(x_{100})\\right)}{\\mathbb{E}\\left[\\left(y_{100} - f_{\\hat{\\theta}}(x_{100})\\right)^2\\right]}\n",
    "$$\n",
    "<!--\n",
    "BEGIN QUESTION\n",
    "name: q5a\n",
    "points: 3\n",
    "-->"
   ]
  },
  {
   "cell_type": "code",
   "execution_count": 55,
   "id": "a4926d3f",
   "metadata": {},
   "outputs": [
    {
     "data": {
      "text/plain": [
       "0.0037619803247409397"
      ]
     },
     "execution_count": 55,
     "metadata": {},
     "output_type": "execute_result"
    }
   ],
   "source": [
    "f_x100 = []\n",
    "y_x100 = []\n",
    "for i in range(len(models)):\n",
    "    f_value = models[i].predict([X.iloc[100]])\n",
    "    f_x100.append(f_value)\n",
    "    y_x100.append(np.power((y.iloc[100] - f_value),2))\n",
    "\n",
    "var = np.var(f_x100)\n",
    "prop_var = var/np.mean(y_x100)\n",
    "prop_var"
   ]
  },
  {
   "cell_type": "code",
   "execution_count": 56,
   "id": "d855cc32",
   "metadata": {
    "deletable": false,
    "editable": false
   },
   "outputs": [
    {
     "data": {
      "text/html": [
       "<p><strong><pre style='display: inline;'>q5a</pre></strong> passed!</p>"
      ],
      "text/plain": [
       "q5a results: All test cases passed!"
      ]
     },
     "execution_count": 56,
     "metadata": {},
     "output_type": "execute_result"
    }
   ],
   "source": [
    "grader.check(\"q5a\")"
   ]
  },
  {
   "cell_type": "markdown",
   "id": "f16a880b",
   "metadata": {
    "deletable": false,
    "editable": false
   },
   "source": [
    "<!-- BEGIN QUESTION -->\n",
    "\n",
    "### Question 5b\n",
    "\n",
    "Comment on the ratio `prop_var`, which is the proportion of the expected square error on the data point captured by the model variance. Is the model variance the dominant term in the bias-variance decomposition? If not, what term(s) dominate the bias-variance decomposition?\n",
    "\n",
    "Justify your answer.\n",
    "\n",
    "<!--\n",
    "BEGIN QUESTION\n",
    "name: q5b\n",
    "points: 3\n",
    "manual: True\n",
    "-->"
   ]
  },
  {
   "cell_type": "markdown",
   "id": "50fd27ae",
   "metadata": {},
   "source": [
    "Since prop_var is very small(0.003), the variance is not the dominant term. Instead, the Model Bias should be the dominant term."
   ]
  },
  {
   "cell_type": "markdown",
   "id": "6ab2f27c",
   "metadata": {
    "deletable": false,
    "editable": false
   },
   "source": [
    "<!-- END QUESTION -->\n",
    "\n",
    "### Question 5c\n",
    "\n",
    "Using the bias-variance decomposition above, calculate the average variance and average mean square error across 250 randomly sampled $(x_i, y_i)$ points. In other words, estimate the following quantities across all $x_i$ and $y_i$ in `X_sample` and `y_sample`:\n",
    "\n",
    "$$\n",
    "\\frac{1}{250} \\sum_{i=1}^{250} \\mathrm{Var}\\left(f_{\\hat{\\theta}}(x_i)\\right)\n",
    "$$\n",
    "\n",
    "and\n",
    "\n",
    "$$\n",
    "\\frac{1}{250} \\sum_{i=1}^{250} \\mathbb{E}\\left[\\left(y_i - f_{\\hat{\\theta}}(x_i)\\right)^2\\right]\n",
    "$$\n",
    "\n",
    "<!--\n",
    "BEGIN QUESTION\n",
    "name: q5c\n",
    "points: 3\n",
    "manual: False\n",
    "-->"
   ]
  },
  {
   "cell_type": "code",
   "execution_count": 57,
   "id": "5f3c3a61",
   "metadata": {},
   "outputs": [
    {
     "data": {
      "text/plain": [
       "(2.7894821870628083e-06, 0.0013862298410611427)"
      ]
     },
     "execution_count": 57,
     "metadata": {},
     "output_type": "execute_result"
    }
   ],
   "source": [
    "np.random.seed(42)\n",
    "\n",
    "X_sample = X.sample(250)         # generate 250 x_i\n",
    "y_sample = y.loc[X_sample.index] # ...and select the corresponding y_i\n",
    "\n",
    "f_random = []\n",
    "y_random = []\n",
    "var_list = []\n",
    "est_list = []\n",
    "    \n",
    "for sample_count in range(250):\n",
    "    f_random = []\n",
    "    y_random = []\n",
    "    for model in models:\n",
    "        f_value = model.predict([X.iloc[sample_count]])\n",
    "        f_random.append(f_value)\n",
    "        y_value = np.power((y.iloc[sample_count] - f_value),2)\n",
    "        y_random.append(y_value)\n",
    "    var_list.append(np.var(f_random))\n",
    "    est_list.append(np.mean(y_random))\n",
    "\n",
    "avg_var, avg_mse = np.mean(var_list), np.mean(est_list)\n",
    "\n",
    "\n",
    "\n",
    "avg_var, avg_mse"
   ]
  },
  {
   "cell_type": "code",
   "execution_count": 58,
   "id": "c531b59c",
   "metadata": {
    "deletable": false,
    "editable": false
   },
   "outputs": [
    {
     "data": {
      "text/html": [
       "<p><strong><pre style='display: inline;'>q5c</pre></strong> passed!</p>"
      ],
      "text/plain": [
       "q5c results: All test cases passed!"
      ]
     },
     "execution_count": 58,
     "metadata": {},
     "output_type": "execute_result"
    }
   ],
   "source": [
    "grader.check(\"q5c\")"
   ]
  },
  {
   "cell_type": "markdown",
   "id": "a9c354a2",
   "metadata": {
    "deletable": false,
    "editable": false
   },
   "source": [
    "<!-- BEGIN QUESTION -->\n",
    "\n",
    "### Question 5d\n",
    "\n",
    "Propose a solution to reducing the mean square error using the insights gained from the bias-variance decomposition above. Please show all quantities and work that informs your analysis.\n",
    "\n",
    "Assume that the standard bias-variance decomposition used in lecture can be applied here.\n",
    "<!--\n",
    "BEGIN QUESTION\n",
    "name: q5d\n",
    "points: 2\n",
    "manual: True\n",
    "-->"
   ]
  },
  {
   "cell_type": "markdown",
   "id": "76a0fb63",
   "metadata": {},
   "source": [
    "As we see from 5a and 5c, the mean_mse drop from 0.03 to 0.0013. This is because in 5a we are only predicting on one single points with multiple models, while we are predicting multiple points(250 points) with multiple models in 5c. By applying this multi-prediction, we are actually lowering the variance and bias at the same time. Since rmse is related with both model variance and bias, only dropping in both could effectively lower mean_rmse."
   ]
  },
  {
   "cell_type": "markdown",
   "id": "b4424538",
   "metadata": {
    "tags": []
   },
   "source": [
    "<!-- END QUESTION -->\n",
    "\n",
    "\n",
    "\n",
    "<br/><br/><br/>\n",
    "\n",
    "<hr style=\"border: 5px solid #003262;\" />\n",
    "<hr style=\"border: 1px solid #fdb515;\" />\n",
    "\n",
    "## Question 6: Improving our Model\n",
    "\n"
   ]
  },
  {
   "cell_type": "markdown",
   "id": "c2a2260c",
   "metadata": {
    "deletable": false,
    "editable": false
   },
   "source": [
    "### Question 6a\n",
    "\n",
    "Suppose we decide to add a feature to our model corresponding to the number of cases per capita the week before (i.e. September 5, 2021). Calculate the cases per capita on September 5, 2021 from the original `covid_data` table, and store it in `mask_data` as a column named `'9/5/2021_cpc'`.\n",
    "\n",
    "*Hint*: This should be similar to Question 2a!\n",
    "\n",
    "<!--\n",
    "BEGIN QUESTION\n",
    "name: q6a\n",
    "points: 1\n",
    "-->"
   ]
  },
  {
   "cell_type": "code",
   "execution_count": 59,
   "id": "993a659a",
   "metadata": {},
   "outputs": [
    {
     "data": {
      "text/html": [
       "<div>\n",
       "<style scoped>\n",
       "    .dataframe tbody tr th:only-of-type {\n",
       "        vertical-align: middle;\n",
       "    }\n",
       "\n",
       "    .dataframe tbody tr th {\n",
       "        vertical-align: top;\n",
       "    }\n",
       "\n",
       "    .dataframe thead th {\n",
       "        text-align: right;\n",
       "    }\n",
       "</style>\n",
       "<table border=\"1\" class=\"dataframe\">\n",
       "  <thead>\n",
       "    <tr style=\"text-align: right;\">\n",
       "      <th></th>\n",
       "      <th>NEVER</th>\n",
       "      <th>RARELY</th>\n",
       "      <th>SOMETIMES</th>\n",
       "      <th>FREQUENTLY</th>\n",
       "      <th>ALWAYS</th>\n",
       "      <th>9/12/2021_cpc</th>\n",
       "      <th>9/5/2021_cpc</th>\n",
       "    </tr>\n",
       "  </thead>\n",
       "  <tbody>\n",
       "    <tr>\n",
       "      <th>0</th>\n",
       "      <td>0.053</td>\n",
       "      <td>0.074</td>\n",
       "      <td>0.134</td>\n",
       "      <td>0.295</td>\n",
       "      <td>0.444</td>\n",
       "      <td>0.165411</td>\n",
       "      <td>0.160513</td>\n",
       "    </tr>\n",
       "    <tr>\n",
       "      <th>1</th>\n",
       "      <td>0.083</td>\n",
       "      <td>0.059</td>\n",
       "      <td>0.098</td>\n",
       "      <td>0.323</td>\n",
       "      <td>0.436</td>\n",
       "      <td>0.152429</td>\n",
       "      <td>0.148561</td>\n",
       "    </tr>\n",
       "    <tr>\n",
       "      <th>2</th>\n",
       "      <td>0.067</td>\n",
       "      <td>0.121</td>\n",
       "      <td>0.120</td>\n",
       "      <td>0.201</td>\n",
       "      <td>0.491</td>\n",
       "      <td>0.134003</td>\n",
       "      <td>0.129489</td>\n",
       "    </tr>\n",
       "    <tr>\n",
       "      <th>3</th>\n",
       "      <td>0.020</td>\n",
       "      <td>0.034</td>\n",
       "      <td>0.096</td>\n",
       "      <td>0.278</td>\n",
       "      <td>0.572</td>\n",
       "      <td>0.171440</td>\n",
       "      <td>0.163896</td>\n",
       "    </tr>\n",
       "    <tr>\n",
       "      <th>4</th>\n",
       "      <td>0.053</td>\n",
       "      <td>0.114</td>\n",
       "      <td>0.180</td>\n",
       "      <td>0.194</td>\n",
       "      <td>0.459</td>\n",
       "      <td>0.158538</td>\n",
       "      <td>0.153113</td>\n",
       "    </tr>\n",
       "    <tr>\n",
       "      <th>...</th>\n",
       "      <td>...</td>\n",
       "      <td>...</td>\n",
       "      <td>...</td>\n",
       "      <td>...</td>\n",
       "      <td>...</td>\n",
       "      <td>...</td>\n",
       "      <td>...</td>\n",
       "    </tr>\n",
       "    <tr>\n",
       "      <th>3136</th>\n",
       "      <td>0.061</td>\n",
       "      <td>0.295</td>\n",
       "      <td>0.230</td>\n",
       "      <td>0.146</td>\n",
       "      <td>0.268</td>\n",
       "      <td>0.143205</td>\n",
       "      <td>0.135706</td>\n",
       "    </tr>\n",
       "    <tr>\n",
       "      <th>3137</th>\n",
       "      <td>0.095</td>\n",
       "      <td>0.157</td>\n",
       "      <td>0.160</td>\n",
       "      <td>0.247</td>\n",
       "      <td>0.340</td>\n",
       "      <td>0.196238</td>\n",
       "      <td>0.191599</td>\n",
       "    </tr>\n",
       "    <tr>\n",
       "      <th>3138</th>\n",
       "      <td>0.098</td>\n",
       "      <td>0.278</td>\n",
       "      <td>0.154</td>\n",
       "      <td>0.207</td>\n",
       "      <td>0.264</td>\n",
       "      <td>0.158496</td>\n",
       "      <td>0.151026</td>\n",
       "    </tr>\n",
       "    <tr>\n",
       "      <th>3139</th>\n",
       "      <td>0.204</td>\n",
       "      <td>0.155</td>\n",
       "      <td>0.069</td>\n",
       "      <td>0.285</td>\n",
       "      <td>0.287</td>\n",
       "      <td>0.144330</td>\n",
       "      <td>0.139175</td>\n",
       "    </tr>\n",
       "    <tr>\n",
       "      <th>3140</th>\n",
       "      <td>0.142</td>\n",
       "      <td>0.129</td>\n",
       "      <td>0.148</td>\n",
       "      <td>0.207</td>\n",
       "      <td>0.374</td>\n",
       "      <td>0.122942</td>\n",
       "      <td>0.118938</td>\n",
       "    </tr>\n",
       "  </tbody>\n",
       "</table>\n",
       "<p>3141 rows × 7 columns</p>\n",
       "</div>"
      ],
      "text/plain": [
       "      NEVER  RARELY  SOMETIMES  FREQUENTLY  ALWAYS  9/12/2021_cpc  \\\n",
       "0     0.053   0.074      0.134       0.295   0.444       0.165411   \n",
       "1     0.083   0.059      0.098       0.323   0.436       0.152429   \n",
       "2     0.067   0.121      0.120       0.201   0.491       0.134003   \n",
       "3     0.020   0.034      0.096       0.278   0.572       0.171440   \n",
       "4     0.053   0.114      0.180       0.194   0.459       0.158538   \n",
       "...     ...     ...        ...         ...     ...            ...   \n",
       "3136  0.061   0.295      0.230       0.146   0.268       0.143205   \n",
       "3137  0.095   0.157      0.160       0.247   0.340       0.196238   \n",
       "3138  0.098   0.278      0.154       0.207   0.264       0.158496   \n",
       "3139  0.204   0.155      0.069       0.285   0.287       0.144330   \n",
       "3140  0.142   0.129      0.148       0.207   0.374       0.122942   \n",
       "\n",
       "      9/5/2021_cpc  \n",
       "0         0.160513  \n",
       "1         0.148561  \n",
       "2         0.129489  \n",
       "3         0.163896  \n",
       "4         0.153113  \n",
       "...            ...  \n",
       "3136      0.135706  \n",
       "3137      0.191599  \n",
       "3138      0.151026  \n",
       "3139      0.139175  \n",
       "3140      0.118938  \n",
       "\n",
       "[3141 rows x 7 columns]"
      ]
     },
     "execution_count": 59,
     "metadata": {},
     "output_type": "execute_result"
    }
   ],
   "source": [
    "mask_data['9/5/2021_cpc'] = covid_data['9/5/21']/covid_data['POPESTIMATE2020']\n",
    "mask_data"
   ]
  },
  {
   "cell_type": "code",
   "execution_count": 60,
   "id": "461175b1",
   "metadata": {
    "deletable": false,
    "editable": false
   },
   "outputs": [
    {
     "data": {
      "text/html": [
       "<p><strong><pre style='display: inline;'>q6a</pre></strong> passed!</p>"
      ],
      "text/plain": [
       "q6a results: All test cases passed!"
      ]
     },
     "execution_count": 60,
     "metadata": {},
     "output_type": "execute_result"
    }
   ],
   "source": [
    "grader.check(\"q6a\")"
   ]
  },
  {
   "cell_type": "markdown",
   "id": "20d9a16a",
   "metadata": {
    "deletable": false,
    "editable": false
   },
   "source": [
    "### Question 6b\n",
    "\n",
    "Add the feature that we generated in the previous subpart into our design matrix, and train a Scikit-Learn linear regression model **without an intercept term**. Use `train_test_split` to evaluate your model's RMSE on a held-out validation set with 33% of the county-wise data `mask_data`.\n",
    "\n",
    "To pass the autograder, make sure to set the parameter `random_state` to 42 in your call to `train_test_split`.\n",
    "\n",
    "*Hint:* This should be similar to Question 3a!\n",
    "\n",
    "<!--\n",
    "BEGIN QUESTION\n",
    "name: q6b\n",
    "points: 3\n",
    "-->"
   ]
  },
  {
   "cell_type": "code",
   "execution_count": 61,
   "id": "0ad89cd0",
   "metadata": {},
   "outputs": [
    {
     "data": {
      "text/plain": [
       "(0.0023470008492814665, 0.0023738866194771458)"
      ]
     },
     "execution_count": 61,
     "metadata": {},
     "output_type": "execute_result"
    }
   ],
   "source": [
    "# Create train/test sets\n",
    "X_improved = mask_data[['NEVER', 'RARELY', 'SOMETIMES', 'FREQUENTLY', 'ALWAYS','9/12/2021_cpc']]\n",
    "y_improved = pd.Series(mask_data['9/5/2021_cpc'])\n",
    "X_improved_train, X_improved_test, y_improved_train, y_improved_test = train_test_split(X_improved,y_improved, test_size=0.33, \n",
    "                                                                                        train_size=0.67, random_state=42)\n",
    "\n",
    "# fit the linear model and make predictions\n",
    "linear_model_1 = lm.LinearRegression(fit_intercept=False)\n",
    "linear_model_1.fit(X_improved_train,y_improved_train)\n",
    "\n",
    "# compute RMSE on train and test sets\n",
    "train_rmse_improved_cpc = float(np.sqrt(np.mean(np.power((y_improved_train - linear_model_1.predict(X_improved_train)),2))))\n",
    "test_rmse_improved_cpc = float(np.sqrt(np.mean(np.power((y_improved_test - linear_model_1.predict(X_improved_test)),2))))\n",
    "\n",
    "\n",
    "train_rmse_improved_cpc, test_rmse_improved_cpc"
   ]
  },
  {
   "cell_type": "code",
   "execution_count": 62,
   "id": "fb9b73cb",
   "metadata": {
    "deletable": false,
    "editable": false
   },
   "outputs": [
    {
     "data": {
      "text/html": [
       "<p><strong><pre style='display: inline;'>q6b</pre></strong> passed!</p>"
      ],
      "text/plain": [
       "q6b results: All test cases passed!"
      ]
     },
     "execution_count": 62,
     "metadata": {},
     "output_type": "execute_result"
    }
   ],
   "source": [
    "grader.check(\"q6b\")"
   ]
  },
  {
   "cell_type": "markdown",
   "id": "30dd4591",
   "metadata": {
    "deletable": false,
    "editable": false
   },
   "source": [
    "<!-- BEGIN QUESTION -->\n",
    "\n",
    "### Question 6c\n",
    "\n",
    "Compare the RMSE of our improved model with an extra feature with the intercept term removed with the RMSE obtained in the model from Question 3a. \n",
    "\n",
    "Comment on what you would *expect* to happen if you repeated the multicollinearity and bias-variance analyses on this new model using bootstrapping. Specifically, what would you expect to happen with this new model bias? \n",
    "\n",
    "*Hint*: If you wish, you may want to carry out this analysis by adding a cell below this. Please delete it afterwards and note that you *may* run into memory issues if you run it too many times!\n",
    "<!--\n",
    "BEGIN QUESTION\n",
    "name: q6c\n",
    "points: 2\n",
    "manual: True\n",
    "-->"
   ]
  },
  {
   "cell_type": "markdown",
   "id": "29d099a4",
   "metadata": {},
   "source": [
    "the bias would not be zero since there is no intercept term. but the rmse is getting smaller. "
   ]
  },
  {
   "cell_type": "markdown",
   "id": "4d0ad332",
   "metadata": {},
   "source": [
    "<!-- END QUESTION -->\n",
    "\n",
    "\n",
    "\n",
    "Closing note: The model you built in Question 6 is called an *autoregressive model*. To understand more about autoregressive models and collinearity, check out [this paper pre-print](https://psyarxiv.com/96snh)."
   ]
  },
  {
   "cell_type": "markdown",
   "id": "5c91e29e",
   "metadata": {
    "jp-MarkdownHeadingCollapsed": true,
    "nbgrader": {
     "grade": false,
     "grade_id": "finish",
     "locked": true,
     "schema_version": 2,
     "solution": false
    },
    "tags": []
   },
   "source": [
    "## Congratulations!\n",
    "\n",
    "Congrats! You are finished with this homework assignment."
   ]
  },
  {
   "cell_type": "markdown",
   "id": "4bd03598",
   "metadata": {},
   "source": [
    "## Detailed Submission Instructions\n",
    "\n",
    "**There are two parts to this assignment.**\n",
    "1. Question 1 is a written problem and should be submitted as a separate PDF to the Written portal of Gradescope. Please see the top of this notebook for the question writeup.\n",
    "\n",
    "1. All other questions are submitted as part of this notebook. Please see the following cells to generate the zip file for the Coding portal of Gradescope."
   ]
  },
  {
   "cell_type": "markdown",
   "id": "4c7bba25",
   "metadata": {
    "deletable": false,
    "editable": false
   },
   "source": [
    "---\n",
    "\n",
    "To double-check your work, the cell below will rerun all of the autograder tests."
   ]
  },
  {
   "cell_type": "code",
   "execution_count": 63,
   "id": "f4f8083f",
   "metadata": {
    "deletable": false,
    "editable": false
   },
   "outputs": [
    {
     "data": {
      "text/plain": [
       "q2a results: All test cases passed!\n",
       "\n",
       "q2b results: All test cases passed!\n",
       "\n",
       "q3a results: All test cases passed!\n",
       "\n",
       "q4a results: All test cases passed!\n",
       "\n",
       "q4b results: All test cases passed!\n",
       "\n",
       "q4c results: All test cases passed!\n",
       "\n",
       "q5a results: All test cases passed!\n",
       "\n",
       "q5c results: All test cases passed!\n",
       "\n",
       "q6a results: All test cases passed!\n",
       "\n",
       "q6b results: All test cases passed!"
      ]
     },
     "execution_count": 63,
     "metadata": {},
     "output_type": "execute_result"
    }
   ],
   "source": [
    "grader.check_all()"
   ]
  },
  {
   "cell_type": "markdown",
   "id": "58ebc7be",
   "metadata": {
    "deletable": false,
    "editable": false
   },
   "source": [
    "## Submission\n",
    "\n",
    "Make sure you have run all cells in your notebook in order before running the cell below, so that all images/graphs appear in the output. The cell below will generate a zip file for you to submit. **Please save before exporting!**"
   ]
  },
  {
   "cell_type": "code",
   "execution_count": 64,
   "id": "a39dc8b4",
   "metadata": {
    "deletable": false,
    "editable": false
   },
   "outputs": [
    {
     "data": {
      "text/html": [
       "\n",
       "            <p>Your submission has been exported. Click <a href=\"hw06_2022_07_28T22_50_35_540506.zip\" download=\"hw06_2022_07_28T22_50_35_540506.zip\" target=\"_blank\">here</a>\n",
       "            to download the zip file.</p>\n",
       "            "
      ],
      "text/plain": [
       "<IPython.core.display.HTML object>"
      ]
     },
     "metadata": {},
     "output_type": "display_data"
    }
   ],
   "source": [
    "# Save your notebook first, then run this cell to export your submission.\n",
    "grader.export()"
   ]
  },
  {
   "cell_type": "markdown",
   "id": "2a063e0d",
   "metadata": {},
   "source": [
    " "
   ]
  }
 ],
 "metadata": {
  "kernelspec": {
   "display_name": "Python 3 (ipykernel)",
   "language": "python",
   "name": "python3"
  },
  "language_info": {
   "codemirror_mode": {
    "name": "ipython",
    "version": 3
   },
   "file_extension": ".py",
   "mimetype": "text/x-python",
   "name": "python",
   "nbconvert_exporter": "python",
   "pygments_lexer": "ipython3",
   "version": "3.9.13"
  }
 },
 "nbformat": 4,
 "nbformat_minor": 5
}
